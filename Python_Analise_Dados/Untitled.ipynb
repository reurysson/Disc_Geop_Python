{
 "cells": [
  {
   "cell_type": "code",
   "execution_count": 1,
   "id": "a7f96f72-4dd3-4cf1-a1bf-eb1fa1dd4f11",
   "metadata": {},
   "outputs": [],
   "source": [
    "# Notebook de teste"
   ]
  }
 ],
 "metadata": {
  "citation-manager": {
   "items": {}
  },
  "kernelspec": {
   "display_name": "Python 3 (ipykernel)",
   "language": "python",
   "name": "python3"
  },
  "language_info": {
   "codemirror_mode": {
    "name": "ipython",
    "version": 3
   },
   "file_extension": ".py",
   "mimetype": "text/x-python",
   "name": "python",
   "nbconvert_exporter": "python",
   "pygments_lexer": "ipython3",
   "version": "3.11.7"
  }
 },
 "nbformat": 4,
 "nbformat_minor": 5
}
